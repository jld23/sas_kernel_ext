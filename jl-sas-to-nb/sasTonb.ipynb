{
 "cells": [
  {
   "cell_type": "code",
   "execution_count": 9,
   "metadata": {},
   "outputs": [],
   "source": [
    "import sys\n",
    "from os import path\n",
    "import re"
   ]
  },
  {
   "cell_type": "code",
   "execution_count": 10,
   "metadata": {},
   "outputs": [],
   "source": [
    "code = \"\"\"\n",
    "data race;\n",
    "pr = probnorm(-15/sqrt(325));\n",
    "run;\n",
    "\n",
    "%macro date_loop(start,end);\n",
    "   %let start=%sysfunc(inputn(&start,anydtdte9.));\n",
    "   %let end=%sysfunc(inputn(&end,anydtdte9.));\n",
    "   %let dif=%sysfunc(intck(month,&start,&end));\n",
    "     %do i=0 %to &dif;\n",
    "      %let date=%sysfunc(intnx(month,&start,&i,b),date9.);\n",
    "      %put &date;\n",
    "     %end;\n",
    "   %mend date_loop;\n",
    "\n",
    "   %date_loop(01jul2015,01feb2016)\n",
    "   \n",
    "proc print data=race;\n",
    "var pr;\n",
    "run;\n",
    "\n",
    "\n",
    "proc iml;\n",
    "FF = FINV(0.05/32,2,29);\n",
    "print FF;\n",
    "quit;\n",
    "\n",
    "%macro list_files(dir,ext);\n",
    "  %local filrf rc did memcnt name i;\n",
    "  %let rc=%sysfunc(filename(filrf,&dir));\n",
    "  %let did=%sysfunc(dopen(&filrf));      \n",
    "\n",
    "   %if &did eq 0 %then %do; \n",
    "    %put Directory &dir cannot be open or does not exist;\n",
    "    %return;\n",
    "  %end;\n",
    "\n",
    "   %do i = 1 %to %sysfunc(dnum(&did));   \n",
    "\n",
    "   %let name=%qsysfunc(dread(&did,&i));\n",
    "\n",
    "      %if %qupcase(%qscan(&name,-1,.)) = %upcase(&ext) %then %do;\n",
    "        %put &dir\\&name;\n",
    "      %end;\n",
    "      %else %if %qscan(&name,2,.) = %then %do;        \n",
    "        %list_files(&dir\\&name,&ext)\n",
    "      %end;\n",
    "\n",
    "   %end;\n",
    "   %let rc=%sysfunc(dclose(&did));\n",
    "   %let rc=%sysfunc(filename(filrf));     \n",
    "\n",
    "%mend list_files;\n",
    "%list_files(c:\\temp,sas)\n",
    "\n",
    "\n",
    "data chisq;\n",
    "input df;\n",
    "chirat = cinv(.995,df)/cinv(.005,df);\n",
    "datalines;\n",
    "20\n",
    "21\n",
    "22\n",
    "23\n",
    "24\n",
    "25\n",
    "26\n",
    "27\n",
    "28\n",
    "29\n",
    "30\n",
    ";\n",
    "run;\n",
    " \n",
    "proc print data=chisq;\n",
    "var df chirat;\n",
    "run;\n",
    " \n",
    "proc plot data=chisq;\n",
    "plot chirat*df;\n",
    "run;\n",
    "\"\"\""
   ]
  },
  {
   "cell_type": "code",
   "execution_count": null,
   "metadata": {},
   "outputs": [],
   "source": [
    "(data\\b|proc|%macro).*\\n(.*)(\\n|\\t|\\n\\t)?(.*)(run;|quit;|%mend)\n",
    "(proc).*\\n(.*)(\\n|\\t|\\n\\t)?(.*)(quit;)\n",
    "(?m)(^proc.*((\\n|\\t|\\n\\t)[ ](proc.*)(.*))*)"
   ]
  },
  {
   "cell_type": "code",
   "execution_count": null,
   "metadata": {},
   "outputs": [],
   "source": [
    "comment = '/*'"
   ]
  },
  {
   "cell_type": "code",
   "execution_count": null,
   "metadata": {},
   "outputs": [],
   "source": [
    "def sas2nb(sas_str):\n",
    "    if sas_str.startswith(comment):\n",
    "        pass\n",
    "    cells = []\n",
    "    chunks = sas_str.split('\\n\\n%s' % header_comment)\n",
    "        "
   ]
  },
  {
   "cell_type": "code",
   "execution_count": 1,
   "metadata": {},
   "outputs": [
    {
     "ename": "NameError",
     "evalue": "name 'cells' is not defined",
     "output_type": "error",
     "traceback": [
      "\u001b[0;31m---------------------------------------------------------------------------\u001b[0m",
      "\u001b[0;31mNameError\u001b[0m                                 Traceback (most recent call last)",
      "\u001b[0;32m<ipython-input-1-8eb0a1cbae2d>\u001b[0m in \u001b[0;36m<module>\u001b[0;34m\u001b[0m\n\u001b[1;32m      1\u001b[0m notebook = {\n\u001b[0;32m----> 2\u001b[0;31m         \u001b[0;34m'cells'\u001b[0m\u001b[0;34m:\u001b[0m \u001b[0mcells\u001b[0m\u001b[0;34m,\u001b[0m\u001b[0;34m\u001b[0m\u001b[0;34m\u001b[0m\u001b[0m\n\u001b[0m\u001b[1;32m      3\u001b[0m         'metadata': {\n\u001b[1;32m      4\u001b[0m             \u001b[0;34m'anaconda-cloud'\u001b[0m\u001b[0;34m:\u001b[0m \u001b[0;34m{\u001b[0m\u001b[0;34m}\u001b[0m\u001b[0;34m,\u001b[0m\u001b[0;34m\u001b[0m\u001b[0;34m\u001b[0m\u001b[0m\n\u001b[1;32m      5\u001b[0m             'kernelspec': {\n",
      "\u001b[0;31mNameError\u001b[0m: name 'cells' is not defined"
     ]
    }
   ],
   "source": [
    "notebook = {\n",
    "        'cells': cells,\n",
    "        'metadata': {\n",
    "            'anaconda-cloud': {},\n",
    "            'kernelspec': {\n",
    "                'display_name': 'SAS',\n",
    "                'language': 'sas',\n",
    "                'name': 'sas'},\n",
    "            'language_info': {\n",
    "                'codemirror_mode': {'name': 'sas'},\n",
    "                'file_extension': '.sas',\n",
    "                'name': 'sas',\n",
    "                'nbconvert_exporter': 'python',\n",
    "                }\n",
    "        },\n",
    "        'nbformat': 4,\n",
    "        'nbformat_minor': 4\n",
    "    }"
   ]
  },
  {
   "cell_type": "code",
   "execution_count": 2,
   "metadata": {},
   "outputs": [],
   "source": [
    "def convert(in_file, out_file):\n",
    "    _, in_ext = path.splitext(in_file)\n",
    "    _, out_ext = path.splitext(out_file)\n",
    "\n",
    "    if in_ext == '.ipynb' and out_ext == '.sas':\n",
    "        with open(in_file, 'r', encoding='utf-8') as f:\n",
    "            notebook = json.load(f)\n",
    "        py_str = nb2py(notebook)\n",
    "        with open(out_file, 'w', encoding='utf-8') as f:\n",
    "            f.write(py_str)\n",
    "\n",
    "    elif in_ext == '.sas' and out_ext == '.ipynb':\n",
    "        with open(in_file, 'r', encoding='utf-8') as f:\n",
    "            sas_str = f.read()\n",
    "        notebook = sas2nb(py_str)\n",
    "        with open(out_file, 'w', encoding='utf-8') as f:\n",
    "            json.dump(notebook, f, indent=2)\n",
    "\n",
    "    else:\n",
    "        raise(Exception('Extensions must be .ipynb and .sas or vice versa'))"
   ]
  },
  {
   "cell_type": "code",
   "execution_count": 7,
   "metadata": {},
   "outputs": [
    {
     "ename": "Exception",
     "evalue": "Extensions must be .ipynb and .sas or vice versa",
     "output_type": "error",
     "traceback": [
      "\u001b[0;31m---------------------------------------------------------------------------\u001b[0m",
      "\u001b[0;31mException\u001b[0m                                 Traceback (most recent call last)",
      "\u001b[0;32m<ipython-input-7-1be6e993bece>\u001b[0m in \u001b[0;36m<module>\u001b[0;34m\u001b[0m\n\u001b[1;32m     10\u001b[0m \u001b[0;34m\u001b[0m\u001b[0m\n\u001b[1;32m     11\u001b[0m \u001b[0;32mif\u001b[0m \u001b[0m__name__\u001b[0m \u001b[0;34m==\u001b[0m \u001b[0;34m'__main__'\u001b[0m\u001b[0;34m:\u001b[0m\u001b[0;34m\u001b[0m\u001b[0;34m\u001b[0m\u001b[0m\n\u001b[0;32m---> 12\u001b[0;31m     \u001b[0mmain\u001b[0m\u001b[0;34m(\u001b[0m\u001b[0;34m)\u001b[0m\u001b[0;34m\u001b[0m\u001b[0;34m\u001b[0m\u001b[0m\n\u001b[0m",
      "\u001b[0;32m<ipython-input-7-1be6e993bece>\u001b[0m in \u001b[0;36mmain\u001b[0;34m()\u001b[0m\n\u001b[1;32m      6\u001b[0m         \u001b[0msys\u001b[0m\u001b[0;34m.\u001b[0m\u001b[0mexit\u001b[0m\u001b[0;34m(\u001b[0m\u001b[0;36m1\u001b[0m\u001b[0;34m)\u001b[0m\u001b[0;34m\u001b[0m\u001b[0;34m\u001b[0m\u001b[0m\n\u001b[1;32m      7\u001b[0m \u001b[0;34m\u001b[0m\u001b[0m\n\u001b[0;32m----> 8\u001b[0;31m     \u001b[0mconvert\u001b[0m\u001b[0;34m(\u001b[0m\u001b[0min_file\u001b[0m\u001b[0;34m=\u001b[0m\u001b[0margv\u001b[0m\u001b[0;34m[\u001b[0m\u001b[0;36m1\u001b[0m\u001b[0;34m]\u001b[0m\u001b[0;34m,\u001b[0m \u001b[0mout_file\u001b[0m\u001b[0;34m=\u001b[0m\u001b[0margv\u001b[0m\u001b[0;34m[\u001b[0m\u001b[0;36m2\u001b[0m\u001b[0;34m]\u001b[0m\u001b[0;34m)\u001b[0m\u001b[0;34m\u001b[0m\u001b[0;34m\u001b[0m\u001b[0m\n\u001b[0m\u001b[1;32m      9\u001b[0m \u001b[0;34m\u001b[0m\u001b[0m\n\u001b[1;32m     10\u001b[0m \u001b[0;34m\u001b[0m\u001b[0m\n",
      "\u001b[0;32m<ipython-input-2-6da0b706a46b>\u001b[0m in \u001b[0;36mconvert\u001b[0;34m(in_file, out_file)\u001b[0m\n\u001b[1;32m     18\u001b[0m \u001b[0;34m\u001b[0m\u001b[0m\n\u001b[1;32m     19\u001b[0m     \u001b[0;32melse\u001b[0m\u001b[0;34m:\u001b[0m\u001b[0;34m\u001b[0m\u001b[0;34m\u001b[0m\u001b[0m\n\u001b[0;32m---> 20\u001b[0;31m         \u001b[0;32mraise\u001b[0m\u001b[0;34m(\u001b[0m\u001b[0mException\u001b[0m\u001b[0;34m(\u001b[0m\u001b[0;34m'Extensions must be .ipynb and .sas or vice versa'\u001b[0m\u001b[0;34m)\u001b[0m\u001b[0;34m)\u001b[0m\u001b[0;34m\u001b[0m\u001b[0;34m\u001b[0m\u001b[0m\n\u001b[0m",
      "\u001b[0;31mException\u001b[0m: Extensions must be .ipynb and .sas or vice versa"
     ]
    }
   ],
   "source": [
    "def main():\n",
    "    argv = sys.argv\n",
    "    if len(argv) < 3:\n",
    "        print('Usage: ipynb-sas-convert in.ipynb out.sas')\n",
    "        print('or:    ipynb-sas-convert in.sas out.ipynb')\n",
    "        sys.exit(1)\n",
    "\n",
    "    convert(in_file=argv[1], out_file=argv[2])\n",
    "\n",
    "\n",
    "if __name__ == '__main__':\n",
    "    main()"
   ]
  },
  {
   "cell_type": "code",
   "execution_count": null,
   "metadata": {},
   "outputs": [],
   "source": []
  }
 ],
 "metadata": {
  "kernelspec": {
   "display_name": "Python 3",
   "language": "python",
   "name": "python3"
  },
  "language_info": {
   "codemirror_mode": {
    "name": "ipython",
    "version": 3
   },
   "file_extension": ".py",
   "mimetype": "text/x-python",
   "name": "python",
   "nbconvert_exporter": "python",
   "pygments_lexer": "ipython3",
   "version": "3.7.3"
  }
 },
 "nbformat": 4,
 "nbformat_minor": 4
}
